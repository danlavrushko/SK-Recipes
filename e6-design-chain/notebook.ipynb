{
 "cells": [
  {
   "attachments": {},
   "cell_type": "markdown",
   "metadata": {},
   "source": [
    "\n",
    "---\n",
    "\n",
    "### Reminder: This 📘 `.NET Interactive` notebook needs to be run from VS Code with [these prerequisites](../PREREQS.md)."
   ]
  },
  {
   "attachments": {},
   "cell_type": "markdown",
   "metadata": {},
   "source": [
    "#### How to use this notebook: \n",
    "\n",
    "* Just read the text and scroll along until you run into code blocks.\n",
    "* Code blocks have computer code inside them — hover over the block and you can run the code.\n",
    "* Run the code by hitting the ▶️ \"play\" button to the left. If the code runs you'll see a ✔️. If not, you'll get a ❌.\n",
    "* The output and status of the code block will appear just below itself — you need to scroll down further to see it.\n",
    "* Sometimes a code block will ask you for input in a hard-to-notice dialog box 👆 at the top of your notebook window. \n",
    "\n",
    "---"
   ]
  },
  {
   "attachments": {},
   "cell_type": "markdown",
   "metadata": {},
   "source": [
    "# Recipe VI: 🔥 Kernel Chain Reactions\n",
    "## 🧑‍🍳 Masterfully cook chain 🧂🧂🧂🔥 reactions from multiple semantic functions\n",
    "\n",
    "When people ask me why Semantic Kernel has its slightly odd name, the simple and truthful answer is that the initial conceiver of SK, Deputy CTO of Microsoft Sam Schillace, has been a long admirer of the simplicity of the UNIX kernel. UNIX was a radical departure in operating systems for its simplicity and flexibility — especially when it came to a concept called \"pipes.\" UNIX commands were easy to string together into a chain reaction like:\n",
    "\n",
    "`% do-something | do-more-stuff | do-even-more-stuff >> drop-it-all-in-here.txt`\n",
    "\n",
    "SK lets you do the same thing with the ability to compose functions together as in a chain of functions that take an input that produces an output, and they are connected end-to-end. For example, let's imagine we want to take a bunch of feedback items from customers and understand their painpoints. We can use the `DesignThinkingSkill.Empathize` to give that a go.\n",
    "\n",
    "## Step 1. Instantiate a 🔥 kernel"
   ]
  },
  {
   "cell_type": "code",
   "execution_count": 2,
   "metadata": {
    "dotnet_interactive": {
     "language": "csharp"
    },
    "polyglot_notebook": {
     "kernelName": "csharp"
    },
    "vscode": {
     "languageId": "polyglot-notebook"
    }
   },
   "outputs": [],
   "source": [
    "#r \"nuget: Microsoft.SemanticKernel, 0.15.230531.5-preview\"\n",
    "\n",
    "#!import ../config/Settings.cs\n",
    "\n",
    "using Microsoft.SemanticKernel;\n",
    "using System.IO;\n",
    "using Microsoft.SemanticKernel.SemanticFunctions;\n",
    "\n",
    "// Grab the locally stored credentials from the settings.json file. Name the \"backend\" as \"davinci\" — assuming that you're using one of the davinci completion models. \n",
    "\n",
    "var (useAzureOpenAI, model, azureEndpoint, apiKey, orgId) = Settings.LoadFromFile();\n",
    "\n",
    "IKernel kernel = Microsoft.SemanticKernel.Kernel.Builder\n",
    "    .WithAzureChatCompletionService(\n",
    "        deploymentName: model,\n",
    "        endpoint: azureEndpoint,\n",
    "        apiKey: apiKey\n",
    "    )\n",
    "    .Build();"
   ]
  },
  {
   "attachments": {},
   "cell_type": "markdown",
   "metadata": {},
   "source": [
    "## Step 2: Load up a 🧂 skill and warm up the 🔥 kernel\n",
    "\n",
    "Empathy is the ability to understand and share the feelings of another. It is a key skill for designers, as it allows them to understand the needs of the people they are designing for. Empathy is also a key skill for developers, as it allows them to address the needs of the people they are building for.\n",
    "\n",
    "One quick way to get a sense for one's users and customers is to analyze data that's readily available: usually in the form of customer support logs or notes from sales team about difficult customer interactions that have recently transpired. A simple SK skill to analyze that information would read as:"
   ]
  },
  {
   "cell_type": "code",
   "execution_count": 3,
   "metadata": {
    "dotnet_interactive": {
     "language": "csharp"
    },
    "polyglot_notebook": {
     "kernelName": "csharp"
    },
    "vscode": {
     "languageId": "polyglot-notebook"
    }
   },
   "outputs": [],
   "source": [
    "using System.Text.Json;\n",
    "using System.Text.Json.Serialization;\n",
    "\n",
    "// Load the Skills Directory\n",
    "var skillsDirectory = Path.Combine(System.IO.Directory.GetCurrentDirectory(), \"skills\");\n",
    "\n",
    "// Load the EmpathizeSkill from the Skills Directory\n",
    "var skillDT = kernel.ImportSemanticSkillFromDirectory(skillsDirectory, \"DesignThinkingSkill\");\n",
    "\n",
    "// The default input variable \n",
    "var input = @\"\n",
    "Customer 1: The power button on my phone is broken. The warranty is still valid.\n",
    "Customer 2: My display stopped working.\n",
    "Customer 3: The customer service rep didn't answer my email.\n",
    "Customer 4: Every time I call customer support I get no answer.\n",
    "Customer 5: The display screen cracked and it's still under warranty.\n",
    "Customer 6: My power button fell off the phone. That's ridiculous.\n",
    "Customer 7: I'm so frustrated with this company.\n",
    "Customer 8: When I use the power button too much, it stops working.\n",
    "\";\n",
    "\n",
    "var empathyResult = await kernel.RunAsync(input, skillDT[\"Empathize\"]);\n",
    "\n",
    "Console.WriteLine(empathyResult);"
   ]
  },
  {
   "attachments": {},
   "cell_type": "markdown",
   "metadata": {},
   "source": [
    "This is commonly known as the \"Empathize\" phase of Stanford University's approach to \"Design Thinking\" with the other phases being: Define, Ideate, Prototype, Test. \n",
    "\n",
    "![](../assets/empathize.png) \n",
    "\n",
    "So in design thinking parlance, we have done the important first step of \"Empathize\" by understanding our customers' painpoints."
   ]
  },
  {
   "attachments": {},
   "cell_type": "markdown",
   "metadata": {},
   "source": [
    "## Step 3. 🧂🔥 Turn the empathy insights into problem definitions\n",
    "\n",
    "We can take this analysis and feed it into a problem-definer skill we have in the `DesignThinkingSkill` toolkit called `Define`:"
   ]
  },
  {
   "cell_type": "code",
   "execution_count": 4,
   "metadata": {
    "dotnet_interactive": {
     "language": "csharp"
    },
    "polyglot_notebook": {
     "kernelName": "csharp"
    },
    "vscode": {
     "languageId": "polyglot-notebook"
    }
   },
   "outputs": [],
   "source": [
    "\n",
    "// Load the Skills Directory\n",
    "var skillsDirectory = Path.Combine(System.IO.Directory.GetCurrentDirectory(), \"skills\");\n",
    "\n",
    "// Load the EmpathizeSkill from the Skills Directory\n",
    "var skillDT = kernel.ImportSemanticSkillFromDirectory(skillsDirectory, \"DesignThinkingSkill\");\n",
    "\n",
    "var defineResult = await kernel.RunAsync(empathyResult.ToString(), skillDT[\"Define\"]);\n",
    "\n",
    "Console.WriteLine(defineResult);"
   ]
  },
  {
   "attachments": {},
   "cell_type": "markdown",
   "metadata": {},
   "source": [
    "## Step 4. 🧂🔥 Brainstorm ideas to address the problems\n",
    "\n",
    "And if we were in a mood to attempt to solve their problem, we could use the `DesignThinkingSkill.Ideate` function to brainstorm ideas to address the problems as easy versus difficult:"
   ]
  },
  {
   "cell_type": "code",
   "execution_count": 5,
   "metadata": {
    "dotnet_interactive": {
     "language": "csharp"
    },
    "polyglot_notebook": {
     "kernelName": "csharp"
    },
    "vscode": {
     "languageId": "polyglot-notebook"
    }
   },
   "outputs": [],
   "source": [
    "\n",
    "// Load the Skills Directory\n",
    "var skillsDirectory = Path.Combine(System.IO.Directory.GetCurrentDirectory(), \"skills\");\n",
    "\n",
    "// Load the EmpathizeSkill from the Skills Directory\n",
    "var skillDT = kernel.ImportSemanticSkillFromDirectory(skillsDirectory, \"DesignThinkingSkill\");\n",
    "\n",
    "var ideateResult = await kernel.RunAsync(defineResult.ToString(), skillDT[\"Ideate\"]);\n",
    "\n",
    "//Console.WriteLine(ideateResult);\n",
    "display(ideateResult.ToString());\n"
   ]
  },
  {
   "attachments": {},
   "cell_type": "markdown",
   "metadata": {},
   "source": [
    "## Step 6. 🧂🧂🧂🔥 Do it all again, but as a chain reaction \n",
    "\n",
    "Each step unlocks more power. But what if we could just chain these all together instead of just incrementally process them. That would set a chain reaction in motion from customer support logs all the way to ideas of how to address their concerns. Let's build that:"
   ]
  },
  {
   "cell_type": "code",
   "execution_count": 6,
   "metadata": {
    "dotnet_interactive": {
     "language": "csharp"
    },
    "polyglot_notebook": {
     "kernelName": "csharp"
    },
    "vscode": {
     "languageId": "polyglot-notebook"
    }
   },
   "outputs": [],
   "source": [
    "#r \"nuget: Markdig.Signed, 0.31.0\"\n",
    "using Microsoft.AspNetCore.Html;\n",
    "using Markdig;\n",
    "using System.Text.Json;\n",
    "using System.Text.Json.Serialization;\n",
    "\n",
    "// Load the Skills Directory\n",
    "var skillsDirectory = Path.Combine(System.IO.Directory.GetCurrentDirectory(), \"skills\");\n",
    "\n",
    "// Load the EmpathizeSkill from the Skills Directory\n",
    "var skillDT = kernel.ImportSemanticSkillFromDirectory(skillsDirectory, \"DesignThinkingSkill\");\n",
    "\n",
    "var input = @\"\n",
    "Customer 1: The power button on my phone is broken. The warranty is still valid.\n",
    "Customer 2: My display stopped working.\n",
    "Customer 3: The customer service rep didn't answer my email.\n",
    "Customer 4: Every time I call customer support I get no answer.\n",
    "Customer 5: The display screen cracked and it's still under warranty.\n",
    "Customer 6: My power button fell off the phone. That's ridiculous.\n",
    "Customer 7: I'm so frustrated with this company.\n",
    "Customer 8: When I use the power button too much, it stops working.\n",
    "\";\n",
    "\n",
    "var myResult = await kernel.RunAsync(input, skillDT[\"Empathize\"], skillDT[\"Define\"], skillDT[\"Ideate\"]);\n",
    "\n",
    "var myPipeline = new MarkdownPipelineBuilder().UseAdvancedExtensions().Build();\n",
    "var myResult2HTML = Markdown.ToHtml(\"# Ideate: 'Design Thinking' directions generated from customer empathy (Empathize) and problem definition (Define)\\n\\n\" + myResult.ToString(), myPipeline);\n",
    "var myHTMLContent = new HtmlContentBuilder();\n",
    "\n",
    "myHTMLContent.AppendHtml(myResult2HTML);\n",
    "myHTMLContent"
   ]
  },
  {
   "attachments": {},
   "cell_type": "markdown",
   "metadata": {},
   "source": [
    "Neat, huh? We just connected each of the functions together so the first input goes into the next output, goes into a new input, and sends out a new output, etc.\n",
    "\n",
    "# ⏭️ Next Steps\n",
    "\n",
    "Run through more advanced examples in the notebooks that are available in our GitHub repo at [https://aka.ms/sk/repo](https://aka.ms/sk/repo).\n",
    "\n",
    "[Ready for a bonus round? Got chat?](../e7-bonus-chat/notebook.ipynb)\n",
    "\n",
    "Or stay a longer while and alter the customer support comments to get suggestions for your own product or services."
   ]
  }
 ],
 "metadata": {
  "language_info": {
   "name": "python"
  },
  "orig_nbformat": 4
 },
 "nbformat": 4,
 "nbformat_minor": 2
}
